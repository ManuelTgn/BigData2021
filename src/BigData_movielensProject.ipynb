{
 "cells": [
  {
   "cell_type": "markdown",
   "metadata": {},
   "source": [
    "# Big Data course (a.y. 2020-21) Final Project"
   ]
  },
  {
   "cell_type": "code",
   "execution_count": 2,
   "metadata": {
    "id": "Va2JrRDCSdcf"
   },
   "outputs": [],
   "source": [
    "import matplotlib.pyplot as plt\n",
    "import seaborn as sns\n",
    "import numpy as np\n",
    "\n",
    "import scipy.stats\n",
    "import pyspark\n",
    "import os"
   ]
  },
  {
   "cell_type": "markdown",
   "metadata": {},
   "source": [
    "## Introduction"
   ]
  },
  {
   "cell_type": "markdown",
   "metadata": {},
   "source": [
    "This project will focus on the analysis of the [MovieLens 1M dataset](https://grouplens.org/datasets/movielens/1m/). The dataset contains 1,000,209 anonymous ratings of approximately 3,900 movies made by 6,040 MovieLens users who joined MovieLens in 2000.\n",
    "\n",
    "The dataset constitues of three DAT files:\n",
    "\n",
    "- ```movies.dat```\n",
    "\n",
    "- ```ratings.dat```\n",
    "\n",
    "- ```users.dat```"
   ]
  },
  {
   "cell_type": "markdown",
   "metadata": {},
   "source": [
    "##### ```movies.dat```\n",
    "\n",
    "```movies.dat``` file stores movie information. Data are stored following this format:\n",
    "\n",
    "**MovieID::Title::Genres**\n",
    "\n",
    "Titles are identical to titles provided by the IMDB (including year of release).\n",
    "\n",
    "Genres are pipe-separated and are selected from the following genres:\n",
    "\n",
    "- Action\n",
    "- Adventure\n",
    "- Animation\n",
    "- Children's\n",
    "- Comedy\n",
    "- Crime\n",
    "- Documentary\n",
    "- Drama\n",
    "- Fantasy\n",
    "- Film-Noir\n",
    "- Horror\n",
    "- Musical\n",
    "- Mystery\n",
    "- Romance\n",
    "- Sci-Fi\n",
    "- Thriller\n",
    "- War\n",
    "- Western\n",
    "\n",
    "Some MovieIDs do not correspond to a movie due to accidental duplicate\n",
    "entries and/or test entries\n",
    "\n",
    "Movies are mostly entered by hand, so errors and inconsistencies may exist."
   ]
  },
  {
   "cell_type": "markdown",
   "metadata": {},
   "source": [
    "#### ```ratings.dat```\n",
    "\n",
    "Ratings are contained in the file ```ratings.dat``` and are stored in the following format:\n",
    "\n",
    "**UserID::MovieID::Rating::Timestamp**\n",
    "\n",
    "- UserIDs range between 1 and 6040 \n",
    "\n",
    "- MovieIDs range between 1 and 3952\n",
    "\n",
    "- Ratings are made on a 5-star scale (whole-star ratings only)\n",
    "\n",
    "- Timestamp is represented in seconds since the epoch as returned by ```time(2)```\n",
    "\n",
    "- Each user has at least 20 ratings"
   ]
  },
  {
   "cell_type": "markdown",
   "metadata": {},
   "source": [
    "#### ```users.dat```\n",
    "\n",
    "User information are stored in  ```users.dat``` file. Data are stored with the following format:\n",
    "\n",
    "**UserID::Gender::Age::Occupation::Zip-code**\n",
    "\n",
    "All demographic information is provided voluntarily by the users and is not checked for accuracy.  Only users who have provided some demographic information are included in this data set.\n",
    "\n",
    "Gender is denoted by a \"M\" for male and \"F\" for female.\n",
    "\n",
    "Age is chosen from the following ranges:\n",
    "\n",
    "- 1:  \"Under 18\"\n",
    "- 18:  \"18-24\"\n",
    "- 25:  \"25-34\"\n",
    "- 35:  \"35-44\"\n",
    "- 45:  \"45-49\"\n",
    "- 50:  \"50-55\"\n",
    "- 56:  \"56+\"\n",
    "\n",
    "The occupation is chosen from the following choices:\n",
    "\n",
    "- 0:  \"other\" or not specified\n",
    "- 1:  \"academic/educator\"\n",
    "- 2:  \"artist\"\n",
    "- 3:  \"clerical/admin\"\n",
    "- 4:  \"college/grad student\"\n",
    "- 5:  \"customer service\"\n",
    "- 6:  \"doctor/health care\"\n",
    "- 7:  \"executive/managerial\"\n",
    "- 8:  \"farmer\"\n",
    "- 9:  \"homemaker\"\n",
    "- 10:  \"K-12 student\"\n",
    "- 11:  \"lawyer\"\n",
    "- 12:  \"programmer\"\n",
    "- 13:  \"retired\"\n",
    "- 14:  \"sales/marketing\"\n",
    "- 15:  \"scientist\"\n",
    "- 16:  \"self-employed\"\n",
    "- 17:  \"technician/engineer\"\n",
    "- 18:  \"tradesman/craftsman\"\n",
    "- 19:  \"unemployed\"\n",
    "- 20:  \"writer\""
   ]
  },
  {
   "cell_type": "code",
   "execution_count": 3,
   "metadata": {
    "colab": {
     "base_uri": "https://localhost:8080/"
    },
    "id": "uwIIu7cfTXl-",
    "outputId": "76d2a862-d4af-48ca-cb00-508fc9d6e5ce"
   },
   "outputs": [],
   "source": [
    "sc = pyspark.SparkContext(appName=\"mySparkApp\")\n",
    "movielens_dir = \"../data/\""
   ]
  },
  {
   "cell_type": "markdown",
   "metadata": {},
   "source": [
    "## Exploratory analysis"
   ]
  },
  {
   "cell_type": "markdown",
   "metadata": {},
   "source": [
    "Load MovieLens data and print the first five values for each file."
   ]
  },
  {
   "cell_type": "code",
   "execution_count": 5,
   "metadata": {
    "colab": {
     "base_uri": "https://localhost:8080/"
    },
    "id": "ewP4OCXITm8Z",
    "outputId": "4ec7a10a-976c-4a45-fe5b-d1fe560b7ba8"
   },
   "outputs": [
    {
     "name": "stdout",
     "output_type": "stream",
     "text": [
      "[['1', 'Toy Story (1995)', \"Animation|Children's|Comedy\"], ['2', 'Jumanji (1995)', \"Adventure|Children's|Fantasy\"], ['3', 'Grumpier Old Men (1995)', 'Comedy|Romance'], ['4', 'Waiting to Exhale (1995)', 'Comedy|Drama'], ['5', 'Father of the Bride Part II (1995)', 'Comedy']]\n",
      "\n",
      "[['1', '1193', '5', '978300760'], ['1', '661', '3', '978302109'], ['1', '914', '3', '978301968'], ['1', '3408', '4', '978300275'], ['1', '2355', '5', '978824291']]\n",
      "\n",
      "[['1', 'F', '1', '10', '48067'], ['2', 'M', '56', '16', '70072'], ['3', 'M', '25', '15', '55117'], ['4', 'M', '45', '7', '02460'], ['5', 'M', '25', '20', '55455']]\n"
     ]
    }
   ],
   "source": [
    "movies_data = sc.textFile(os.path.join(movielens_dir, \"movies.dat\"))\\\n",
    "  .map(lambda x : x.split(\"::\"))\n",
    "ratings_data = sc.textFile(os.path.join(movielens_dir, \"ratings.dat\"))\\\n",
    "  .map(lambda x : x .split(\"::\"))\n",
    "users_data = sc.textFile(os.path.join(movielens_dir, \"users.dat\"))\\\n",
    "  .map(lambda x : x.split(\"::\"))\n",
    "print(movies_data.take(5), end=\"\\n\\n\")\n",
    "print(ratings_data.take(5), end=\"\\n\\n\")\n",
    "print(users_data.take(5))"
   ]
  },
  {
   "cell_type": "markdown",
   "metadata": {
    "id": "_ZNaracrWTE8"
   },
   "source": [
    "Let's now compute the number of ratings for each movie.\n",
    "\n",
    "We'll, then, plot the distribution of ratings per movie."
   ]
  },
  {
   "cell_type": "code",
   "execution_count": 7,
   "metadata": {
    "colab": {
     "base_uri": "https://localhost:8080/",
     "height": 701
    },
    "id": "Ff3CcU0zUU-_",
    "outputId": "b3873320-0f6a-48f3-844b-7d0ba3df6d6f"
   },
   "outputs": [
    {
     "name": "stdout",
     "output_type": "stream",
     "text": [
      "[(1, 2077), (2, 701), (3, 478), (4, 170), (5, 296)]\n"
     ]
    },
    {
     "name": "stderr",
     "output_type": "stream",
     "text": [
      "/Users/manuel/anaconda3/lib/python3.7/site-packages/seaborn/distributions.py:2557: FutureWarning: `distplot` is a deprecated function and will be removed in a future version. Please adapt your code to use either `displot` (a figure-level function with similar flexibility) or `histplot` (an axes-level function for histograms).\n",
      "  warnings.warn(msg, FutureWarning)\n"
     ]
    },
    {
     "data": {
      "image/png": "[encoded data removed]",
      "text/plain": [
       "<Figure size 720x720 with 1 Axes>"
      ]
     },
     "metadata": {
      "needs_background": "light"
     },
     "output_type": "display_data"
    }
   ],
   "source": [
    "ratingByMovieCount = ratings_data.map(lambda x : (int(x[1]), 1))\\\n",
    "  .reduceByKey(lambda a,b : a + b)\\\n",
    "  .sortByKey()\\\n",
    "  .collect()\n",
    "print(ratingByMovieCount[:5])\n",
    "\n",
    "# plot distribution using histogram\n",
    "ratings = []\n",
    "for e in ratingByMovieCount:\n",
    "  for _ in range(e[1]): ratings.append(e[0])\n",
    "plt.figure(figsize=(10,10))\n",
    "sns.distplot(ratings, kde=False, hist=True, color=\"blue\")\n",
    "plt.xlabel(\"Movie ID\", size=14)\n",
    "plt.ylabel(\"Number of ratings\", size=14)\n",
    "plt.title(\"Number of ratings per movie\",size=20)\n",
    "plt.show()\n"
   ]
  },
  {
   "cell_type": "markdown",
   "metadata": {
    "id": "iLSzOyJdpZE-"
   },
   "source": [
    "We can now retrieve how many movies each user rated.\n",
    "\n",
    "We can then plot the number of ratings per user, as done before."
   ]
  },
  {
   "cell_type": "code",
   "execution_count": 8,
   "metadata": {
    "colab": {
     "base_uri": "https://localhost:8080/",
     "height": 701
    },
    "id": "fa1MXODjXFhL",
    "outputId": "b8fd05db-bd70-4816-ebee-a819ca15f030"
   },
   "outputs": [
    {
     "name": "stdout",
     "output_type": "stream",
     "text": [
      "[(1, 53), (2, 129), (3, 51), (4, 21), (5, 198)]\n"
     ]
    },
    {
     "data": {
      "image/png": "[encoded data removed]",
      "text/plain": [
       "<Figure size 720x720 with 1 Axes>"
      ]
     },
     "metadata": {
      "needs_background": "light"
     },
     "output_type": "display_data"
    }
   ],
   "source": [
    "ratingsByUserCount = ratings_data.map(lambda x : (int(x[0]), 1))\\\n",
    "  .reduceByKey(lambda a,b : a + b)\\\n",
    "  .sortByKey()\\\n",
    "  .collect()\n",
    "print(ratingsByUserCount[:5])\n",
    "\n",
    "# plot distribution using histogram\n",
    "ratings = []\n",
    "for e in ratingsByUserCount:\n",
    "  for _ in range(e[1]): ratings.append(e[0])\n",
    "plt.figure(figsize=(10,10))\n",
    "sns.distplot(ratings, kde=False, hist=True, color=\"blue\")\n",
    "plt.xlabel(\"User ID\", size=14)\n",
    "plt.ylabel(\"Number of ratings\", size=14)\n",
    "plt.title(\"Number of ratings per user\",size=20)\n",
    "plt.show()"
   ]
  },
  {
   "cell_type": "markdown",
   "metadata": {
    "id": "X5f7mGs6smoi"
   },
   "source": [
    "Let's now recover the average rating score received by each movie in MovieLens dataset."
   ]
  },
  {
   "cell_type": "code",
   "execution_count": 15,
   "metadata": {
    "colab": {
     "base_uri": "https://localhost:8080/"
    },
    "id": "yvDU0s70p2PP",
    "outputId": "4edcec94-6db0-4ad8-a5f5-186550109221"
   },
   "outputs": [
    {
     "name": "stdout",
     "output_type": "stream",
     "text": [
      "[(787, 5.0), (3233, 5.0), (3245, 4.8), (53, 4.75), (2503, 4.666666666666667), (2905, 4.608695652173913), (2019, 4.560509554140127), (318, 4.554557700942973), (858, 4.524966261808367), (745, 4.52054794520548)]\n"
     ]
    }
   ],
   "source": [
    "# take those movies with > 1 review\n",
    "avgScoreByMovie = ratings_data.map(lambda x : (int(x[1]), [int(x[2])]))\\\n",
    "  .reduceByKey(lambda a,b : a + b)\\\n",
    "  .filter(lambda x : len(x[1]) > 1)\\\n",
    "  .map(lambda x : (x[0], np.mean(x[1])))\n",
    "print(avgScoreByMovie.takeOrdered(10, key = lambda x : -x[1]))  # sort in decreasing order"
   ]
  },
  {
   "cell_type": "markdown",
   "metadata": {
    "id": "mMn6pAacvzzz"
   },
   "source": [
    "We can now recover the average rating score given by each user."
   ]
  },
  {
   "cell_type": "code",
   "execution_count": 16,
   "metadata": {
    "colab": {
     "base_uri": "https://localhost:8080/"
    },
    "id": "ewFLtA1LtKSW",
    "outputId": "22e6afdc-c9ff-4676-caa1-7bdb9c9836cf"
   },
   "outputs": [
    {
     "name": "stdout",
     "output_type": "stream",
     "text": [
      "[(283, 4.962962962962963), (2339, 4.956521739130435), (3324, 4.904761904761905), (3902, 4.890909090909091), (446, 4.8431372549019605), (447, 4.837837837837838), (4649, 4.818181818181818), (4634, 4.813725490196078), (1131, 4.796116504854369), (4925, 4.761904761904762)]\n"
     ]
    }
   ],
   "source": [
    "# take those users with > 1 review\n",
    "avgScoreByUser = ratings_data.map(lambda x : (int(x[0]), [int(x[2])]))\\\n",
    "  .reduceByKey(lambda a,b : a + b)\\\n",
    "  .filter(lambda x : len(x[1]) > 1)\\\n",
    "  .map(lambda x : (x[0], np.mean(x[1])))\n",
    "print(avgScoreByUser.takeOrdered(10, key = lambda x : -x[1]))  # sort in decreasing order"
   ]
  },
  {
   "cell_type": "markdown",
   "metadata": {
    "id": "Hv3eNtyOwsqD"
   },
   "source": [
    "Let's now recover the top $K$ movies (e.g., $K = 10$) having at least $R$ ratings (e.g., $R > 20$), i.e., the $K$ movies with the highest average rating that have at least $R$ reviews."
   ]
  },
  {
   "cell_type": "code",
   "execution_count": 17,
   "metadata": {
    "colab": {
     "base_uri": "https://localhost:8080/"
    },
    "id": "lvvTMGZDwZme",
    "outputId": "90744d64-e92f-4b1b-f8f5-20b35094eb48"
   },
   "outputs": [
    {
     "name": "stdout",
     "output_type": "stream",
     "text": [
      "[('Sanjuro (1962)', 4.608695652173913), ('Seven Samurai (The Magnificent Seven) (Shichinin no samurai) (1954)', 4.560509554140127), ('Shawshank Redemption, The (1994)', 4.554557700942973), ('Godfather, The (1972)', 4.524966261808367), ('Close Shave, A (1995)', 4.52054794520548), ('Usual Suspects, The (1995)', 4.517106001121705), (\"Schindler's List (1993)\", 4.510416666666667), ('Wrong Trousers, The (1993)', 4.507936507936508), ('Sunset Blvd. (a.k.a. Sunset Boulevard) (1950)', 4.491489361702127), ('Raiders of the Lost Ark (1981)', 4.477724741447892)]\n"
     ]
    }
   ],
   "source": [
    "top10Movies = ratings_data.map(lambda x : (int(x[1]), [int(x[2])]))\\\n",
    "  .reduceByKey(lambda a,b : a + b)\\\n",
    "  .filter(lambda x : len(x[1]) > 20)\\\n",
    "  .map(lambda x : (x[0], np.mean(x[1])))\\\n",
    "  .takeOrdered(10, key = lambda x : -x[1])\n",
    "top10Movies = sc.parallelize(top10Movies)\n",
    "\n",
    "# retrieve movies names\n",
    "movies_names = movies_data.map(lambda x : (int(x[0]), x[1]))\\\n",
    "  .sortByKey()\n",
    "\n",
    "top10MoviesNames = top10Movies.join(movies_names)\\\n",
    "  .map(lambda x : (x[1][1], x[1][0]))\\\n",
    "  .takeOrdered(10, key = lambda x : -x[1])\n",
    "print(top10MoviesNames)"
   ]
  },
  {
   "cell_type": "markdown",
   "metadata": {},
   "source": [
    "## Complex queries on the dataset"
   ]
  },
  {
   "cell_type": "markdown",
   "metadata": {
    "id": "Bulos39Ny9al"
   },
   "source": [
    "**Q1** • Find if there is a correlation between the standard deviation of the ratings a movie has received, and\n",
    "the number of ratings."
   ]
  },
  {
   "cell_type": "code",
   "execution_count": 18,
   "metadata": {
    "colab": {
     "base_uri": "https://localhost:8080/"
    },
    "id": "wdEfbCCaynt6",
    "outputId": "990eb979-4d53-49e4-b2bf-c0930fbc5691"
   },
   "outputs": [
    {
     "name": "stdout",
     "output_type": "stream",
     "text": [
      "(0.022378105407863134, 0.17319118659128352)\n"
     ]
    }
   ],
   "source": [
    "# recover movie ratings \n",
    "movieRatings = ratings_data.map(lambda x : (int(x[1]), [int(x[2])]))\\\n",
    "  .reduceByKey(lambda a,b : a + b)\\\n",
    "  .sortByKey()\\\n",
    "  .map(lambda x : (x[0], np.std(x[1])))\n",
    "\n",
    "# recover number of ratings per movie\n",
    "ratingNumber = ratings_data.map(lambda x : (int(x[1]), 1))\\\n",
    "  .reduceByKey(lambda a,b : a + b)\\\n",
    "  .sortByKey()\n",
    "\n",
    "# new RDD with [std[rating[movie]], len(rating[movie])]\n",
    "movieStdRatingCorr = movieRatings.join(ratingNumber)\\\n",
    "  .sortByKey()\\\n",
    "  .map(lambda x : (x[1][0], x[1][1]))\\\n",
    "  .collect()\n",
    "\n",
    "# compute Pearson's correlation\n",
    "stdevs = [e[0] for e in movieStdRatingCorr]\n",
    "nrats = [e[1] for e in movieStdRatingCorr]\n",
    "print(scipy.stats.pearsonr(stdevs, nrats))  # corr = 0.022 | P-val = 0.17  --> not correlated"
   ]
  },
  {
   "cell_type": "code",
   "execution_count": null,
   "metadata": {
    "id": "HQ9-sCg21F0N"
   },
   "outputs": [],
   "source": []
  }
 ],
 "metadata": {
  "colab": {
   "name": "BigData_movielensProject.ipynb",
   "provenance": []
  },
  "kernelspec": {
   "display_name": "Python 3",
   "language": "python",
   "name": "python3"
  },
  "language_info": {
   "codemirror_mode": {
    "name": "ipython",
    "version": 3
   },
   "file_extension": ".py",
   "mimetype": "text/x-python",
   "name": "python",
   "nbconvert_exporter": "python",
   "pygments_lexer": "ipython3",
   "version": "3.7.3"
  }
 },
 "nbformat": 4,
 "nbformat_minor": 1
}
