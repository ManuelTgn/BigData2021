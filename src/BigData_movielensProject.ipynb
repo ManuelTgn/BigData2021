{
 "cells": [
  {
   "cell_type": "markdown",
   "metadata": {},
   "source": [
    "# Big Data course (a.y. 2020-21) Final Project"
   ]
  },
  {
   "cell_type": "code",
   "execution_count": 1,
   "metadata": {
    "id": "Va2JrRDCSdcf"
   },
   "outputs": [],
   "source": [
    "from datetime import datetime, timezone\n",
    "from sklearn.decomposition import PCA\n",
    "from sklearn.cluster import KMeans\n",
    "\n",
    "\n",
    "import matplotlib.pyplot as plt\n",
    "import seaborn as sns\n",
    "import pandas as pd\n",
    "import numpy as np\n",
    "\n",
    "import scipy.stats\n",
    "import pyspark\n",
    "import os"
   ]
  },
  {
   "cell_type": "markdown",
   "metadata": {},
   "source": [
    "## Introduction"
   ]
  },
  {
   "cell_type": "markdown",
   "metadata": {},
   "source": [
    "This project will focus on the analysis of the [MovieLens 1M dataset](https://grouplens.org/datasets/movielens/1m/). The dataset contains 1,000,209 anonymous ratings of approximately 3,900 movies made by 6,040 MovieLens users who joined MovieLens in 2000.\n",
    "\n",
    "The dataset constitues of three DAT files:\n",
    "\n",
    "- ```movies.dat```\n",
    "\n",
    "- ```ratings.dat```\n",
    "\n",
    "- ```users.dat```"
   ]
  },
  {
   "cell_type": "markdown",
   "metadata": {},
   "source": [
    "##### ```movies.dat```\n",
    "\n",
    "```movies.dat``` file stores movie information. Data are stored following this format:\n",
    "\n",
    "**MovieID::Title::Genres**\n",
    "\n",
    "Titles are identical to titles provided by the IMDB (including year of release).\n",
    "\n",
    "Genres are pipe-separated and are selected from the following genres:\n",
    "\n",
    "- Action\n",
    "- Adventure\n",
    "- Animation\n",
    "- Children's\n",
    "- Comedy\n",
    "- Crime\n",
    "- Documentary\n",
    "- Drama\n",
    "- Fantasy\n",
    "- Film-Noir\n",
    "- Horror\n",
    "- Musical\n",
    "- Mystery\n",
    "- Romance\n",
    "- Sci-Fi\n",
    "- Thriller\n",
    "- War\n",
    "- Western\n",
    "\n",
    "Some MovieIDs do not correspond to a movie due to accidental duplicate\n",
    "entries and/or test entries\n",
    "\n",
    "Movies are mostly entered by hand, so errors and inconsistencies may exist."
   ]
  },
  {
   "cell_type": "markdown",
   "metadata": {},
   "source": [
    "#### ```ratings.dat```\n",
    "\n",
    "Ratings are contained in the file ```ratings.dat``` and are stored in the following format:\n",
    "\n",
    "**UserID::MovieID::Rating::Timestamp**\n",
    "\n",
    "- UserIDs range between 1 and 6040 \n",
    "\n",
    "- MovieIDs range between 1 and 3952\n",
    "\n",
    "- Ratings are made on a 5-star scale (whole-star ratings only)\n",
    "\n",
    "- Timestamp is represented in seconds since the epoch as returned by ```time(2)```\n",
    "\n",
    "- Each user has at least 20 ratings"
   ]
  },
  {
   "cell_type": "markdown",
   "metadata": {},
   "source": [
    "#### ```users.dat```\n",
    "\n",
    "User information are stored in  ```users.dat``` file. Data are stored with the following format:\n",
    "\n",
    "**UserID::Gender::Age::Occupation::Zip-code**\n",
    "\n",
    "All demographic information is provided voluntarily by the users and is not checked for accuracy.  Only users who have provided some demographic information are included in this data set.\n",
    "\n",
    "Gender is denoted by a \"M\" for male and \"F\" for female.\n",
    "\n",
    "Age is chosen from the following ranges:\n",
    "\n",
    "- 1:  \"Under 18\"\n",
    "- 18:  \"18-24\"\n",
    "- 25:  \"25-34\"\n",
    "- 35:  \"35-44\"\n",
    "- 45:  \"45-49\"\n",
    "- 50:  \"50-55\"\n",
    "- 56:  \"56+\"\n",
    "\n",
    "The occupation is chosen from the following choices:\n",
    "\n",
    "- 0:  \"other\" or not specified\n",
    "- 1:  \"academic/educator\"\n",
    "- 2:  \"artist\"\n",
    "- 3:  \"clerical/admin\"\n",
    "- 4:  \"college/grad student\"\n",
    "- 5:  \"customer service\"\n",
    "- 6:  \"doctor/health care\"\n",
    "- 7:  \"executive/managerial\"\n",
    "- 8:  \"farmer\"\n",
    "- 9:  \"homemaker\"\n",
    "- 10:  \"K-12 student\"\n",
    "- 11:  \"lawyer\"\n",
    "- 12:  \"programmer\"\n",
    "- 13:  \"retired\"\n",
    "- 14:  \"sales/marketing\"\n",
    "- 15:  \"scientist\"\n",
    "- 16:  \"self-employed\"\n",
    "- 17:  \"technician/engineer\"\n",
    "- 18:  \"tradesman/craftsman\"\n",
    "- 19:  \"unemployed\"\n",
    "- 20:  \"writer\""
   ]
  },
  {
   "cell_type": "code",
   "execution_count": 2,
   "metadata": {
    "colab": {
     "base_uri": "https://localhost:8080/"
    },
    "id": "uwIIu7cfTXl-",
    "outputId": "76d2a862-d4af-48ca-cb00-508fc9d6e5ce"
   },
   "outputs": [],
   "source": [
    "sc = pyspark.SparkContext(appName=\"mySparkApp\")\n",
    "movielens_dir = \"../data/\""
   ]
  },
  {
   "cell_type": "markdown",
   "metadata": {},
   "source": [
    "## Exploratory analysis"
   ]
  },
  {
   "cell_type": "markdown",
   "metadata": {},
   "source": [
    "Load MovieLens data and print the first five values for each file."
   ]
  },
  {
   "cell_type": "code",
   "execution_count": 3,
   "metadata": {
    "colab": {
     "base_uri": "https://localhost:8080/"
    },
    "id": "ewP4OCXITm8Z",
    "outputId": "4ec7a10a-976c-4a45-fe5b-d1fe560b7ba8"
   },
   "outputs": [
    {
     "name": "stdout",
     "output_type": "stream",
     "text": [
      "[['1', 'Toy Story (1995)', \"Animation|Children's|Comedy\"], ['2', 'Jumanji (1995)', \"Adventure|Children's|Fantasy\"], ['3', 'Grumpier Old Men (1995)', 'Comedy|Romance'], ['4', 'Waiting to Exhale (1995)', 'Comedy|Drama'], ['5', 'Father of the Bride Part II (1995)', 'Comedy']]\n",
      "\n",
      "[['1', '1193', '5', '978300760'], ['1', '661', '3', '978302109'], ['1', '914', '3', '978301968'], ['1', '3408', '4', '978300275'], ['1', '2355', '5', '978824291']]\n",
      "\n",
      "[['1', 'F', '1', '10', '48067'], ['2', 'M', '56', '16', '70072'], ['3', 'M', '25', '15', '55117'], ['4', 'M', '45', '7', '02460'], ['5', 'M', '25', '20', '55455']]\n"
     ]
    }
   ],
   "source": [
    "movies_data = sc.textFile(os.path.join(movielens_dir, \"movies.dat\"))\\\n",
    "  .map(lambda x : x.split(\"::\"))\n",
    "ratings_data = sc.textFile(os.path.join(movielens_dir, \"ratings.dat\"))\\\n",
    "  .map(lambda x : x .split(\"::\"))\n",
    "users_data = sc.textFile(os.path.join(movielens_dir, \"users.dat\"))\\\n",
    "  .map(lambda x : x.split(\"::\"))\n",
    "print(movies_data.take(5), end=\"\\n\\n\")\n",
    "print(ratings_data.take(5), end=\"\\n\\n\")\n",
    "print(users_data.take(5))"
   ]
  },
  {
   "cell_type": "markdown",
   "metadata": {
    "id": "_ZNaracrWTE8"
   },
   "source": [
    "Let's now compute the number of ratings for each movie.\n",
    "\n",
    "We'll, then, plot the distribution of ratings per movie."
   ]
  },
  {
   "cell_type": "code",
   "execution_count": 4,
   "metadata": {
    "colab": {
     "base_uri": "https://localhost:8080/",
     "height": 701
    },
    "id": "Ff3CcU0zUU-_",
    "outputId": "b3873320-0f6a-48f3-844b-7d0ba3df6d6f"
   },
   "outputs": [
    {
     "name": "stdout",
     "output_type": "stream",
     "text": [
      "[(1, 2077), (2, 701), (3, 478), (4, 170), (5, 296)]\n"
     ]
    },
    {
     "name": "stderr",
     "output_type": "stream",
     "text": [
      "/Users/manuel/anaconda3/lib/python3.7/site-packages/seaborn/distributions.py:2557: FutureWarning: `distplot` is a deprecated function and will be removed in a future version. Please adapt your code to use either `displot` (a figure-level function with similar flexibility) or `histplot` (an axes-level function for histograms).\n",
      "  warnings.warn(msg, FutureWarning)\n"
     ]
    },
    {
     "data": {
      "image/png": "[encoded data removed]",
      "text/plain": [
       "<Figure size 720x720 with 1 Axes>"
      ]
     },
     "metadata": {
      "needs_background": "light"
     },
     "output_type": "display_data"
    }
   ],
   "source": [
    "ratingByMovieCount = ratings_data.map(lambda x : (int(x[1]), 1))\\\n",
    "  .reduceByKey(lambda a,b : a + b)\\\n",
    "  .sortByKey()\\\n",
    "  .collect()\n",
    "print(ratingByMovieCount[:5])\n",
    "\n",
    "# plot distribution using histogram\n",
    "ratings = []\n",
    "for e in ratingByMovieCount:\n",
    "  for _ in range(e[1]): ratings.append(e[0])\n",
    "plt.figure(figsize=(10,10))\n",
    "sns.distplot(ratings, kde=False, hist=True, color=\"blue\")\n",
    "plt.xlabel(\"Movie ID\", size=14)\n",
    "plt.ylabel(\"Number of ratings\", size=14)\n",
    "plt.title(\"Number of ratings per movie\",size=20)\n",
    "plt.show()\n"
   ]
  },
  {
   "cell_type": "markdown",
   "metadata": {
    "id": "iLSzOyJdpZE-"
   },
   "source": [
    "We can now retrieve how many movies each user rated.\n",
    "\n",
    "We can then plot the number of ratings per user, as done before."
   ]
  },
  {
   "cell_type": "code",
   "execution_count": 5,
   "metadata": {
    "colab": {
     "base_uri": "https://localhost:8080/",
     "height": 701
    },
    "id": "fa1MXODjXFhL",
    "outputId": "b8fd05db-bd70-4816-ebee-a819ca15f030"
   },
   "outputs": [
    {
     "name": "stdout",
     "output_type": "stream",
     "text": [
      "[(1, 53), (2, 129), (3, 51), (4, 21), (5, 198)]\n"
     ]
    },
    {
     "data": {
      "image/png": "[encoded data removed]",
      "text/plain": [
       "<Figure size 720x720 with 1 Axes>"
      ]
     },
     "metadata": {
      "needs_background": "light"
     },
     "output_type": "display_data"
    }
   ],
   "source": [
    "ratingsByUserCount = ratings_data.map(lambda x : (int(x[0]), 1))\\\n",
    "  .reduceByKey(lambda a,b : a + b)\\\n",
    "  .sortByKey()\\\n",
    "  .collect()\n",
    "print(ratingsByUserCount[:5])\n",
    "\n",
    "# plot distribution using histogram\n",
    "ratings = []\n",
    "for e in ratingsByUserCount:\n",
    "  for _ in range(e[1]): ratings.append(e[0])\n",
    "plt.figure(figsize=(10,10))\n",
    "sns.distplot(ratings, kde=False, hist=True, color=\"blue\")\n",
    "plt.xlabel(\"User ID\", size=14)\n",
    "plt.ylabel(\"Number of ratings\", size=14)\n",
    "plt.title(\"Number of ratings per user\",size=20)\n",
    "plt.show()"
   ]
  },
  {
   "cell_type": "markdown",
   "metadata": {
    "id": "X5f7mGs6smoi"
   },
   "source": [
    "Let's now recover the average rating score received by each movie in MovieLens dataset."
   ]
  },
  {
   "cell_type": "code",
   "execution_count": 6,
   "metadata": {
    "colab": {
     "base_uri": "https://localhost:8080/"
    },
    "id": "yvDU0s70p2PP",
    "outputId": "4edcec94-6db0-4ad8-a5f5-186550109221"
   },
   "outputs": [
    {
     "name": "stdout",
     "output_type": "stream",
     "text": [
      "[(787, 5.0), (3233, 5.0), (3245, 4.8), (53, 4.75), (2503, 4.666666666666667), (2905, 4.608695652173913), (2019, 4.560509554140127), (318, 4.554557700942973), (858, 4.524966261808367), (745, 4.52054794520548)]\n"
     ]
    }
   ],
   "source": [
    "# take those movies with > 1 review\n",
    "avgScoreByMovie = ratings_data.map(lambda x : (int(x[1]), [int(x[2])]))\\\n",
    "  .reduceByKey(lambda a,b : a + b)\\\n",
    "  .filter(lambda x : len(x[1]) > 1)\\\n",
    "  .map(lambda x : (x[0], np.mean(x[1])))\n",
    "print(avgScoreByMovie.takeOrdered(10, key = lambda x : -x[1]))  # sort in decreasing order"
   ]
  },
  {
   "cell_type": "markdown",
   "metadata": {
    "id": "mMn6pAacvzzz"
   },
   "source": [
    "We can now recover the average rating score given by each user."
   ]
  },
  {
   "cell_type": "code",
   "execution_count": 7,
   "metadata": {
    "colab": {
     "base_uri": "https://localhost:8080/"
    },
    "id": "ewFLtA1LtKSW",
    "outputId": "22e6afdc-c9ff-4676-caa1-7bdb9c9836cf"
   },
   "outputs": [
    {
     "name": "stdout",
     "output_type": "stream",
     "text": [
      "[(283, 4.962962962962963), (2339, 4.956521739130435), (3324, 4.904761904761905), (3902, 4.890909090909091), (446, 4.8431372549019605), (447, 4.837837837837838), (4649, 4.818181818181818), (4634, 4.813725490196078), (1131, 4.796116504854369), (4925, 4.761904761904762)]\n"
     ]
    }
   ],
   "source": [
    "# take those users with > 1 review\n",
    "avgScoreByUser = ratings_data.map(lambda x : (int(x[0]), [int(x[2])]))\\\n",
    "  .reduceByKey(lambda a,b : a + b)\\\n",
    "  .filter(lambda x : len(x[1]) > 1)\\\n",
    "  .map(lambda x : (x[0], np.mean(x[1])))\n",
    "print(avgScoreByUser.takeOrdered(10, key = lambda x : -x[1]))  # sort in decreasing order"
   ]
  },
  {
   "cell_type": "markdown",
   "metadata": {
    "id": "Hv3eNtyOwsqD"
   },
   "source": [
    "Let's now recover the top $K$ movies (e.g., $K = 10$) having at least $R$ ratings (e.g., $R > 20$), i.e., the $K$ movies with the highest average rating that have at least $R$ reviews."
   ]
  },
  {
   "cell_type": "code",
   "execution_count": 8,
   "metadata": {
    "colab": {
     "base_uri": "https://localhost:8080/"
    },
    "id": "lvvTMGZDwZme",
    "outputId": "90744d64-e92f-4b1b-f8f5-20b35094eb48"
   },
   "outputs": [
    {
     "name": "stdout",
     "output_type": "stream",
     "text": [
      "[('Sanjuro (1962)', 4.608695652173913), ('Seven Samurai (The Magnificent Seven) (Shichinin no samurai) (1954)', 4.560509554140127), ('Shawshank Redemption, The (1994)', 4.554557700942973), ('Godfather, The (1972)', 4.524966261808367), ('Close Shave, A (1995)', 4.52054794520548), ('Usual Suspects, The (1995)', 4.517106001121705), (\"Schindler's List (1993)\", 4.510416666666667), ('Wrong Trousers, The (1993)', 4.507936507936508), ('Sunset Blvd. (a.k.a. Sunset Boulevard) (1950)', 4.491489361702127), ('Raiders of the Lost Ark (1981)', 4.477724741447892)]\n"
     ]
    }
   ],
   "source": [
    "top10Movies = ratings_data.map(lambda x : (int(x[1]), [int(x[2])]))\\\n",
    "  .reduceByKey(lambda a,b : a + b)\\\n",
    "  .filter(lambda x : len(x[1]) > 20)\\\n",
    "  .map(lambda x : (x[0], np.mean(x[1])))\\\n",
    "  .takeOrdered(10, key = lambda x : -x[1])\n",
    "top10Movies = sc.parallelize(top10Movies)\n",
    "\n",
    "# retrieve movies names\n",
    "movies_names = movies_data.map(lambda x : (int(x[0]), x[1]))\\\n",
    "  .sortByKey()\n",
    "\n",
    "top10MoviesNames = top10Movies.join(movies_names)\\\n",
    "  .map(lambda x : (x[1][1], x[1][0]))\\\n",
    "  .takeOrdered(10, key = lambda x : -x[1])\n",
    "print(top10MoviesNames)"
   ]
  },
  {
   "cell_type": "markdown",
   "metadata": {},
   "source": [
    "## Complex queries on the dataset"
   ]
  },
  {
   "cell_type": "markdown",
   "metadata": {
    "id": "Bulos39Ny9al"
   },
   "source": [
    "**Q1 -** Find if there is a correlation between the standard deviation of the ratings a movie has received, and\n",
    "the number of ratings."
   ]
  },
  {
   "cell_type": "code",
   "execution_count": 9,
   "metadata": {
    "colab": {
     "base_uri": "https://localhost:8080/"
    },
    "id": "wdEfbCCaynt6",
    "outputId": "990eb979-4d53-49e4-b2bf-c0930fbc5691"
   },
   "outputs": [
    {
     "name": "stdout",
     "output_type": "stream",
     "text": [
      "(0.022378105407863134, 0.17319118659128352)\n"
     ]
    }
   ],
   "source": [
    "# recover movie ratings \n",
    "movieRatings = ratings_data.map(lambda x : (int(x[1]), [int(x[2])]))\\\n",
    "  .reduceByKey(lambda a,b : a + b)\\\n",
    "  .sortByKey()\\\n",
    "  .map(lambda x : (x[0], np.std(x[1])))\n",
    "\n",
    "# recover number of ratings per movie\n",
    "ratingNumber = ratings_data.map(lambda x : (int(x[1]), 1))\\\n",
    "  .reduceByKey(lambda a,b : a + b)\\\n",
    "  .sortByKey()\n",
    "\n",
    "# new RDD with [std[rating[movie]], len(rating[movie])]\n",
    "movieStdRatingCorr = movieRatings.join(ratingNumber)\\\n",
    "  .sortByKey()\\\n",
    "  .map(lambda x : (x[1][0], x[1][1]))\\\n",
    "  .collect()\n",
    "\n",
    "# compute Pearson's correlation\n",
    "stdevs = [e[0] for e in movieStdRatingCorr]\n",
    "nrats = [e[1] for e in movieStdRatingCorr]\n",
    "print(scipy.stats.pearsonr(stdevs, nrats))  # corr = 0.022 | P-val = 0.17  --> not correlated"
   ]
  },
  {
   "cell_type": "markdown",
   "metadata": {
    "id": "HQ9-sCg21F0N"
   },
   "source": [
    "**Q2 -** Find the evolution over time (with a granularity of N months) of the number of ratings and the average\n",
    "rating: do high rated movies maintain their ratings? Are low rated movies “abandoned” after a while?"
   ]
  },
  {
   "cell_type": "code",
   "execution_count": 10,
   "metadata": {},
   "outputs": [
    {
     "name": "stdout",
     "output_type": "stream",
     "text": [
      "High rated movies:\t1311\n",
      "Constantly highly rated movies:\t40\n",
      "[(2, 10), (3, 10), (4, 9), (5, 10), (7, 10)]\n"
     ]
    },
    {
     "data": {
      "image/png": "[encoded data removed]",
      "text/plain": [
       "<Figure size 720x720 with 1 Axes>"
      ]
     },
     "metadata": {
      "needs_background": "light"
     },
     "output_type": "display_data"
    }
   ],
   "source": [
    "# assume granularity of N == 4 months\n",
    "def getYear(timestamp):\n",
    "    if not isinstance(timestamp, int):\n",
    "        raise TypeError(\"Expected int, got {}\".format(type(timestamp).__name__))\n",
    "    dt = datetime.fromtimestamp(timestamp, timezone.utc)  # retrieve datetime object from timestamp\n",
    "    if dt.month >= 1 and dt.month < 5: m = 1\n",
    "    if dt.month >= 5 and dt.month < 9: m = 2\n",
    "    if dt.month >= 9 and dt.month < 13: m = 3\n",
    "    return \"{}-{}\".format(dt.year, m)\n",
    "\n",
    "# average rating\n",
    "avgRatingMov = ratings_data.map(lambda x : ((int(x[1]), getYear(int(x[3]))), [int(x[2])]))\\\n",
    "    .reduceByKey(lambda a,b: a + b)\\\n",
    "    .map(lambda x : (x[0][0], [np.mean(x[1])]))\\\n",
    "    .reduceByKey(lambda a,b : a + b)\\\n",
    "    .sortByKey()\n",
    "\n",
    "# assumes that movies are high rated if have at least one avg rating > 4\n",
    "hratedmov = avgRatingMov.filter(lambda x : any([r > 4 for r in x[1]]))\n",
    "print(\"High rated movies:\\t%d\" % (hratedmov.count()))\n",
    "hratedmovConst = hratedmov.filter(lambda x : all([r > 4 for r in x[1]]))\n",
    "print(\"Constantly highly rated movies:\\t%d\" % (hratedmovConst.count()))\n",
    "\n",
    "# number of ratings\n",
    "ratingsNumber = ratings_data.map(lambda x : ((int(x[1]), getYear(int(x[3]))), 1))\\\n",
    "    .reduceByKey(lambda a,b : a + b)\\\n",
    "    .sortByKey()\n",
    "lratedmov = avgRatingMov.filter(lambda x : all([r <= 4 for r in x[1]]))\\\n",
    "    .map(lambda x : int(x[0]))\\\n",
    "    .collect()\n",
    "ratingsNumberlrated = ratingsNumber.filter(lambda x : x[0][0] in lratedmov)\\\n",
    "    .map(lambda x : (x[0][0], [(x[0][1], x[1])]))\\\n",
    "    .reduceByKey(lambda a,b : a + b)\\\n",
    "    .map(lambda x : (x[0], len(x[1])))\\\n",
    "    .sortByKey()\\\n",
    "    .collect()\n",
    "print(ratingsNumberlrated[:5])\n",
    "\n",
    "def abandonedMov(movlst):\n",
    "    nratings = []\n",
    "    for tup in movlst: nratings.append(tup[1])\n",
    "    max_nratings = max(nratings)\n",
    "    diff_nratings = [max_nratings - tup[1] for tup in movlst]\n",
    "    plt.figure(figsize=(10,10))\n",
    "    sns.distplot(diff_nratings, kde=False, hist=True, color=\"blue\")\n",
    "    plt.xlabel(\"Missing rating\", size=14)\n",
    "    plt.ylabel(\"Frequency\", size=14)\n",
    "    plt.title(\"Missing rating trimesters - low rated movies\",size=20)\n",
    "    plt.show()\n",
    "abandonedMov(ratingsNumberlrated)"
   ]
  },
  {
   "cell_type": "markdown",
   "metadata": {},
   "source": [
    "**Q3 -** Find how the average rating of each movie changes as we progressively remove the ratings from users that rated more and more movies. For instance, we can identify different groups of users (who rated less than 10 movies, who rated between 11 and 30 movies, ...) and we can compute the average rating\n",
    "considering all the groups, then only the groups of users with at least 11 ratings, and so forth."
   ]
  },
  {
   "cell_type": "code",
   "execution_count": 11,
   "metadata": {},
   "outputs": [
    {
     "name": "stdout",
     "output_type": "stream",
     "text": [
      "Users with 20 or less reviews: 86\n",
      "Users with between 21 and 40 reviews: 1265\n",
      "Users with between 41 and 60 reviews: 776\n",
      "Users with between 61 and 80 reviews: 578\n",
      "Users with between 81 and 100 reviews: 426\n",
      "Users with 101 or more reviews: 2909\n",
      "\n",
      "Average score accounting for ratings from all users:\n",
      " [(1, 4.146846413095811), (2, 3.20114122681883), (3, 3.01673640167364), (4, 2.7294117647058824), (5, 3.0067567567567566)]\n",
      "\n",
      "Average score accounting for ratings from users with 20 or less reviews:\n",
      " [(1, 3.875), (3, 3.0), (4, 3.0), (7, 4.0), (10, 3.0)]\n",
      "\n",
      "Average score accounting for ratings from users with between 21 and 40 reviews:\n",
      " [(1, 4.109090909090909), (2, 3.0), (3, 3.16), (4, 2.6666666666666665), (5, 2.888888888888889)]\n",
      "\n",
      "Average score accounting for ratings from users with between 41 and 60 reviews:\n",
      " [(1, 4.083969465648855), (2, 3.526315789473684), (3, 3.2), (4, 3.6666666666666665), (5, 3.0)]\n",
      "\n",
      "Average score accounting for ratings from users with between 61 and 80 reviews:\n",
      " [(1, 4.138686131386861), (2, 3.5), (3, 3.611111111111111), (4, 2.0), (5, 3.3333333333333335)]\n",
      "\n",
      "Average score accounting for ratings from users with between 81 and 100 reviews:\n",
      " [(1, 4.28), (2, 3.56), (3, 3.05), (4, 1.0), (5, 3.2)]\n",
      "\n",
      "Average score accounting for ratings from users with 101 or more reviews:\n",
      " [(1, 4.146232439335888), (2, 3.171474358974359), (3, 2.969543147208122), (4, 2.73125), (5, 3.003731343283582)]\n"
     ]
    }
   ],
   "source": [
    "# divide users in groups based on the number of reviews\n",
    "# NB each user rated each movie at most once\n",
    "userNratings = ratings_data.map(lambda x : (int(x[0]), 1))\\\n",
    "    .reduceByKey(lambda a,b : a + b)\n",
    "\n",
    "# divide users in 6 categories (based on number of reviews)\n",
    "user20 = userNratings.filter(lambda x : x[1] < 21 and x[1] > 0)\n",
    "user40 = userNratings.filter(lambda x : x[1] < 41 and x[1] > 20)\n",
    "user60 = userNratings.filter(lambda x : x[1] < 61 and x[1] > 40)\n",
    "user80 = userNratings.filter(lambda x : x[1] < 81 and x[1] > 60)\n",
    "user100 = userNratings.filter(lambda x : x[1] < 101 and x[1] > 80)\n",
    "userMore = userNratings.filter(lambda x : x[1] > 100)\n",
    "print(\n",
    "    \"Users with 20 or less reviews: %d\" % (user20.count()),\n",
    "    \"Users with between 21 and 40 reviews: %d\" % (user40.count()),\n",
    "    \"Users with between 41 and 60 reviews: %d\" % (user60.count()),\n",
    "    \"Users with between 61 and 80 reviews: %d\" % (user80.count()),\n",
    "    \"Users with between 81 and 100 reviews: %d\" % (user100.count()),\n",
    "    \"Users with 101 or more reviews: %d\" % (userMore.count()),\n",
    "    sep=\"\\n\"\n",
    ")\n",
    "\n",
    "# get average rating considering all groups\n",
    "avgRatingTot = ratings_data.map(lambda x : (int(x[1]), [int(x[2])]))\\\n",
    "    .reduceByKey(lambda a,b : a + b)\\\n",
    "    .map(lambda x : (x[0], np.mean(x[1])))\\\n",
    "    .sortByKey()\n",
    "print(\n",
    "    \"\\nAverage score accounting for ratings from all users:\\n\",\n",
    "    avgRatingTot.take(5)\n",
    ")\n",
    "\n",
    "# get average rating per user group\n",
    "user20lst = user20.map(lambda x : x[0])\\\n",
    "    .collect()\n",
    "avgRatingUser20 = ratings_data.filter(lambda x : int(x[0]) in user20lst)\\\n",
    "    .map(lambda x : (int(x[1]), [int(x[2])]))\\\n",
    "    .reduceByKey(lambda a,b : a + b)\\\n",
    "    .map(lambda x : (x[0], np.mean(x[1])))\\\n",
    "    .sortByKey()\n",
    "# for this group some movies are missing\n",
    "print(\n",
    "    \"\\nAverage score accounting for ratings from users with 20 or less reviews:\\n\",\n",
    "    avgRatingUser20.take(5)\n",
    ")\n",
    "user40lst = user40.map(lambda x : x[0])\\\n",
    "    .collect()\n",
    "avgRatingUser40 = ratings_data.filter(lambda x : int(x[0]) in user40lst)\\\n",
    "    .map(lambda x : (int(x[1]), [int(x[2])]))\\\n",
    "    .reduceByKey(lambda a,b : a + b)\\\n",
    "    .map(lambda x : (x[0], np.mean(x[1])))\\\n",
    "    .sortByKey()\n",
    "print(\n",
    "    \"\\nAverage score accounting for ratings from users with between 21 and 40 reviews:\\n\",\n",
    "    avgRatingUser40.take(5)\n",
    ")\n",
    "user60lst = user60.map(lambda x : x[0])\\\n",
    "    .collect()\n",
    "avgRatingUser60 = ratings_data.filter(lambda x : int(x[0]) in user60lst)\\\n",
    "    .map(lambda x : (int(x[1]), [int(x[2])]))\\\n",
    "    .reduceByKey(lambda a,b : a + b)\\\n",
    "    .map(lambda x : (x[0], np.mean(x[1])))\\\n",
    "    .sortByKey()\n",
    "print(\n",
    "    \"\\nAverage score accounting for ratings from users with between 41 and 60 reviews:\\n\",\n",
    "    avgRatingUser60.take(5)\n",
    ")\n",
    "user80lst = user80.map(lambda x : x[0])\\\n",
    "    .collect()\n",
    "avgRatingUser80 = ratings_data.filter(lambda x : int(x[0]) in user80lst)\\\n",
    "    .map(lambda x : (int(x[1]), [int(x[2])]))\\\n",
    "    .reduceByKey(lambda a,b : a + b)\\\n",
    "    .map(lambda x : (x[0], np.mean(x[1])))\\\n",
    "    .sortByKey()\n",
    "print(\n",
    "    \"\\nAverage score accounting for ratings from users with between 61 and 80 reviews:\\n\",\n",
    "    avgRatingUser80.take(5)\n",
    ")\n",
    "user100lst = user100.map(lambda x : x[0])\\\n",
    "    .collect()\n",
    "avgRatingUser100 = ratings_data.filter(lambda x : int(x[0]) in user100lst)\\\n",
    "    .map(lambda x : (int(x[1]), [int(x[2])]))\\\n",
    "    .reduceByKey(lambda a,b : a + b)\\\n",
    "    .map(lambda x : (x[0], np.mean(x[1])))\\\n",
    "    .sortByKey()\n",
    "print(\n",
    "    \"\\nAverage score accounting for ratings from users with between 81 and 100 reviews:\\n\",\n",
    "    avgRatingUser100.take(5)\n",
    ")\n",
    "userMorelst = userMore.map(lambda x : x[0])\\\n",
    "    .collect()\n",
    "avgRatingUserMore = ratings_data.filter(lambda x : int(x[0]) in userMorelst)\\\n",
    "    .map(lambda x : (int(x[1]), [int(x[2])]))\\\n",
    "    .reduceByKey(lambda a,b : a + b)\\\n",
    "    .map(lambda x : (x[0], np.mean(x[1])))\\\n",
    "    .sortByKey()\n",
    "print(\n",
    "    \"\\nAverage score accounting for ratings from users with 101 or more reviews:\\n\",\n",
    "    avgRatingUserMore.take(5)\n",
    ")"
   ]
  },
  {
   "cell_type": "markdown",
   "metadata": {},
   "source": [
    "**Q4 -** Is it possible to identify groups of similar movies based on the ratings they received from the users? For instance, if movies m1 and m2 have both obtained 5 stars from users u1 and u2, they may be\n",
    "considered similar."
   ]
  },
  {
   "cell_type": "code",
   "execution_count": 12,
   "metadata": {},
   "outputs": [
    {
     "data": {
      "text/html": [
       "<div>\n",
       "<style scoped>\n",
       "    .dataframe tbody tr th:only-of-type {\n",
       "        vertical-align: middle;\n",
       "    }\n",
       "\n",
       "    .dataframe tbody tr th {\n",
       "        vertical-align: top;\n",
       "    }\n",
       "\n",
       "    .dataframe thead th {\n",
       "        text-align: right;\n",
       "    }\n",
       "</style>\n",
       "<table border=\"1\" class=\"dataframe\">\n",
       "  <thead>\n",
       "    <tr style=\"text-align: right;\">\n",
       "      <th></th>\n",
       "      <th>1</th>\n",
       "      <th>2</th>\n",
       "      <th>3</th>\n",
       "      <th>4</th>\n",
       "      <th>5</th>\n",
       "      <th>6</th>\n",
       "      <th>7</th>\n",
       "      <th>8</th>\n",
       "      <th>9</th>\n",
       "      <th>10</th>\n",
       "      <th>...</th>\n",
       "      <th>6031</th>\n",
       "      <th>6032</th>\n",
       "      <th>6033</th>\n",
       "      <th>6034</th>\n",
       "      <th>6035</th>\n",
       "      <th>6036</th>\n",
       "      <th>6037</th>\n",
       "      <th>6038</th>\n",
       "      <th>6039</th>\n",
       "      <th>6040</th>\n",
       "    </tr>\n",
       "  </thead>\n",
       "  <tbody>\n",
       "    <tr>\n",
       "      <th>$1,000,000 Duck (1971)</th>\n",
       "      <td>4.188679</td>\n",
       "      <td>3.713178</td>\n",
       "      <td>3.901961</td>\n",
       "      <td>4.190476</td>\n",
       "      <td>3.146465</td>\n",
       "      <td>3.901408</td>\n",
       "      <td>4.322581</td>\n",
       "      <td>3.884892</td>\n",
       "      <td>3.735849</td>\n",
       "      <td>4.114713</td>\n",
       "      <td>...</td>\n",
       "      <td>3.666667</td>\n",
       "      <td>4.134615</td>\n",
       "      <td>3.85</td>\n",
       "      <td>4.095238</td>\n",
       "      <td>2.610714</td>\n",
       "      <td>3.302928</td>\n",
       "      <td>3.717822</td>\n",
       "      <td>3.8</td>\n",
       "      <td>3.878049</td>\n",
       "      <td>3.577713</td>\n",
       "    </tr>\n",
       "    <tr>\n",
       "      <th>'Night Mother (1986)</th>\n",
       "      <td>4.188679</td>\n",
       "      <td>3.713178</td>\n",
       "      <td>3.901961</td>\n",
       "      <td>4.190476</td>\n",
       "      <td>3.146465</td>\n",
       "      <td>3.901408</td>\n",
       "      <td>4.322581</td>\n",
       "      <td>3.884892</td>\n",
       "      <td>3.735849</td>\n",
       "      <td>4.114713</td>\n",
       "      <td>...</td>\n",
       "      <td>3.666667</td>\n",
       "      <td>4.134615</td>\n",
       "      <td>3.85</td>\n",
       "      <td>4.095238</td>\n",
       "      <td>2.610714</td>\n",
       "      <td>3.000000</td>\n",
       "      <td>3.717822</td>\n",
       "      <td>3.8</td>\n",
       "      <td>3.878049</td>\n",
       "      <td>3.577713</td>\n",
       "    </tr>\n",
       "    <tr>\n",
       "      <th>'Til There Was You (1997)</th>\n",
       "      <td>4.188679</td>\n",
       "      <td>3.713178</td>\n",
       "      <td>3.901961</td>\n",
       "      <td>4.190476</td>\n",
       "      <td>3.146465</td>\n",
       "      <td>3.901408</td>\n",
       "      <td>4.322581</td>\n",
       "      <td>3.884892</td>\n",
       "      <td>3.735849</td>\n",
       "      <td>4.114713</td>\n",
       "      <td>...</td>\n",
       "      <td>3.666667</td>\n",
       "      <td>4.134615</td>\n",
       "      <td>3.85</td>\n",
       "      <td>4.095238</td>\n",
       "      <td>2.610714</td>\n",
       "      <td>3.302928</td>\n",
       "      <td>3.717822</td>\n",
       "      <td>3.8</td>\n",
       "      <td>3.878049</td>\n",
       "      <td>3.577713</td>\n",
       "    </tr>\n",
       "    <tr>\n",
       "      <th>'burbs, The (1989)</th>\n",
       "      <td>4.188679</td>\n",
       "      <td>3.713178</td>\n",
       "      <td>3.901961</td>\n",
       "      <td>4.190476</td>\n",
       "      <td>3.146465</td>\n",
       "      <td>3.901408</td>\n",
       "      <td>4.322581</td>\n",
       "      <td>3.884892</td>\n",
       "      <td>3.735849</td>\n",
       "      <td>4.000000</td>\n",
       "      <td>...</td>\n",
       "      <td>3.666667</td>\n",
       "      <td>4.134615</td>\n",
       "      <td>3.85</td>\n",
       "      <td>4.095238</td>\n",
       "      <td>2.610714</td>\n",
       "      <td>3.302928</td>\n",
       "      <td>3.717822</td>\n",
       "      <td>3.8</td>\n",
       "      <td>3.878049</td>\n",
       "      <td>3.577713</td>\n",
       "    </tr>\n",
       "    <tr>\n",
       "      <th>...And Justice for All (1979)</th>\n",
       "      <td>4.188679</td>\n",
       "      <td>3.713178</td>\n",
       "      <td>3.901961</td>\n",
       "      <td>4.190476</td>\n",
       "      <td>3.146465</td>\n",
       "      <td>3.901408</td>\n",
       "      <td>4.322581</td>\n",
       "      <td>3.884892</td>\n",
       "      <td>3.735849</td>\n",
       "      <td>4.114713</td>\n",
       "      <td>...</td>\n",
       "      <td>3.666667</td>\n",
       "      <td>4.134615</td>\n",
       "      <td>3.85</td>\n",
       "      <td>4.095238</td>\n",
       "      <td>2.610714</td>\n",
       "      <td>3.302928</td>\n",
       "      <td>3.717822</td>\n",
       "      <td>3.8</td>\n",
       "      <td>3.878049</td>\n",
       "      <td>3.577713</td>\n",
       "    </tr>\n",
       "  </tbody>\n",
       "</table>\n",
       "<p>5 rows × 6040 columns</p>\n",
       "</div>"
      ],
      "text/plain": [
       "                                   1         2         3         4     \\\n",
       "$1,000,000 Duck (1971)         4.188679  3.713178  3.901961  4.190476   \n",
       "'Night Mother (1986)           4.188679  3.713178  3.901961  4.190476   \n",
       "'Til There Was You (1997)      4.188679  3.713178  3.901961  4.190476   \n",
       "'burbs, The (1989)             4.188679  3.713178  3.901961  4.190476   \n",
       "...And Justice for All (1979)  4.188679  3.713178  3.901961  4.190476   \n",
       "\n",
       "                                   5         6         7         8     \\\n",
       "$1,000,000 Duck (1971)         3.146465  3.901408  4.322581  3.884892   \n",
       "'Night Mother (1986)           3.146465  3.901408  4.322581  3.884892   \n",
       "'Til There Was You (1997)      3.146465  3.901408  4.322581  3.884892   \n",
       "'burbs, The (1989)             3.146465  3.901408  4.322581  3.884892   \n",
       "...And Justice for All (1979)  3.146465  3.901408  4.322581  3.884892   \n",
       "\n",
       "                                   9         10    ...      6031      6032  \\\n",
       "$1,000,000 Duck (1971)         3.735849  4.114713  ...  3.666667  4.134615   \n",
       "'Night Mother (1986)           3.735849  4.114713  ...  3.666667  4.134615   \n",
       "'Til There Was You (1997)      3.735849  4.114713  ...  3.666667  4.134615   \n",
       "'burbs, The (1989)             3.735849  4.000000  ...  3.666667  4.134615   \n",
       "...And Justice for All (1979)  3.735849  4.114713  ...  3.666667  4.134615   \n",
       "\n",
       "                               6033      6034      6035      6036      6037  \\\n",
       "$1,000,000 Duck (1971)         3.85  4.095238  2.610714  3.302928  3.717822   \n",
       "'Night Mother (1986)           3.85  4.095238  2.610714  3.000000  3.717822   \n",
       "'Til There Was You (1997)      3.85  4.095238  2.610714  3.302928  3.717822   \n",
       "'burbs, The (1989)             3.85  4.095238  2.610714  3.302928  3.717822   \n",
       "...And Justice for All (1979)  3.85  4.095238  2.610714  3.302928  3.717822   \n",
       "\n",
       "                               6038      6039      6040  \n",
       "$1,000,000 Duck (1971)          3.8  3.878049  3.577713  \n",
       "'Night Mother (1986)            3.8  3.878049  3.577713  \n",
       "'Til There Was You (1997)       3.8  3.878049  3.577713  \n",
       "'burbs, The (1989)              3.8  3.878049  3.577713  \n",
       "...And Justice for All (1979)   3.8  3.878049  3.577713  \n",
       "\n",
       "[5 rows x 6040 columns]"
      ]
     },
     "execution_count": 12,
     "metadata": {},
     "output_type": "execute_result"
    }
   ],
   "source": [
    "# recover ratings grouped by movie id and user id\n",
    "movieRatings = ratings_data.map(lambda x : (int(x[0]), [(int(x[1]), int(x[2]))]))\\\n",
    "    .reduceByKey(lambda a,b : a + b)\\\n",
    "    .sortByKey()\\\n",
    "    .collect()\n",
    "# map movie ids to titles\n",
    "moviesIdTitle = movies_data.map(lambda x : (int(x[0]), x[1]))\\\n",
    "    .collect()\n",
    "moviesIdTitleMap = {}\n",
    "for t in moviesIdTitle:\n",
    "    assert t[0] not in moviesIdTitleMap.keys()\n",
    "    moviesIdTitleMap.update({t[0]:t[1]})\n",
    "# create dataframe\n",
    "data = {}\n",
    "for t in movieRatings:\n",
    "    user = t[0]\n",
    "    assert user not in data.keys()\n",
    "    data.update({user:{}})\n",
    "    ratings = t[1]\n",
    "    for t2 in ratings:\n",
    "        title = moviesIdTitleMap[t2[0]]\n",
    "        rating = t2[1]\n",
    "        assert title not in data[user].keys()\n",
    "        data[user].update({title:rating})\n",
    "movies = pd.DataFrame(data)\n",
    "# fill NaNs with column mean\n",
    "movies.fillna(movies.mean(), inplace=True)\n",
    "movies.head()"
   ]
  },
  {
   "cell_type": "markdown",
   "metadata": {},
   "source": [
    "Let's apply K-means clustering algorithm to identify groups of movies with similar ratings by users.\n",
    "\n",
    "For plotting purposes we first consider only users 4169 and 1680 ratings (users with highest number of ratings). Then, we will compute clusters considering all users' ratings."
   ]
  },
  {
   "cell_type": "code",
   "execution_count": 13,
   "metadata": {},
   "outputs": [
    {
     "data": {
      "text/plain": [
       "Text(0.5, 1.0, 'Movie ratings clusters')"
      ]
     },
     "execution_count": 13,
     "metadata": {},
     "output_type": "execute_result"
    },
    {
     "data": {
      "image/png": "[encoded data removed]",
      "text/plain": [
       "<Figure size 576x576 with 1 Axes>"
      ]
     },
     "metadata": {
      "needs_background": "light"
     },
     "output_type": "display_data"
    }
   ],
   "source": [
    "# perform K-means clustering on user 4169 and 2680 ratings\n",
    "kmeans = KMeans(n_clusters=5)  # assume 5 clusters\n",
    "cls = kmeans.fit_predict(movies[[4169,1680]])\n",
    "movies['Cluster'] = cls\n",
    "# compute PCs\n",
    "pca = PCA(n_components=2)\n",
    "pcs = pca.fit_transform(movies[[4169,1680]])\n",
    "moviesPC = pd.DataFrame(\n",
    "    data = pcs, \n",
    "    columns = [\"PC1\", \"PC2\"], \n",
    "    index=movies.index.tolist()\n",
    ")\n",
    "moviesPC[\"Cluster\"] = movies.Cluster\n",
    "plt.figure(figsize=(8,8))\n",
    "palette = [\"#F008BB\", \"#08F01D\", \"#08CDF0\", \"#F08708\", \"#C2BDB6\"]\n",
    "sns.scatterplot(data=moviesPC, x=\"PC1\", y=\"PC2\", hue=\"Cluster\", palette=palette)\n",
    "plt.xlabel(\"PC1\", size=14)\n",
    "plt.ylabel(\"PC2\", size=14)\n",
    "plt.title(\"Movie ratings clusters\", size=20)"
   ]
  },
  {
   "cell_type": "code",
   "execution_count": 14,
   "metadata": {},
   "outputs": [
    {
     "data": {
      "text/plain": [
       "Text(0.5, 1.0, 'Movie ratings clusters')"
      ]
     },
     "execution_count": 14,
     "metadata": {},
     "output_type": "execute_result"
    },
    {
     "data": {
      "image/png": "[encoded data removed]",
      "text/plain": [
       "<Figure size 576x576 with 1 Axes>"
      ]
     },
     "metadata": {
      "needs_background": "light"
     },
     "output_type": "display_data"
    }
   ],
   "source": [
    "# perform K-means clustering on all users' ratings\n",
    "kmeans = KMeans(n_clusters=5)  # assume 5 clusters\n",
    "cls = kmeans.fit_predict(movies[movies.columns.tolist()])\n",
    "movies['Cluster'] = cls\n",
    "# compute PCs\n",
    "pca = PCA(n_components=2)\n",
    "pcs = pca.fit_transform(movies)\n",
    "moviesPC = pd.DataFrame(\n",
    "    data = pcs, \n",
    "    columns = [\"PC1\", \"PC2\"], \n",
    "    index=movies.index.tolist()\n",
    ")\n",
    "moviesPC[\"Cluster\"] = movies.Cluster\n",
    "plt.figure(figsize=(8,8))\n",
    "palette = [\"#F008BB\", \"#08F01D\", \"#08CDF0\", \"#F08708\", \"#C2BDB6\"]\n",
    "sns.scatterplot(data=moviesPC, x=\"PC1\", y=\"PC2\", hue=\"Cluster\", palette=palette)\n",
    "plt.xlabel(\"PC1\", size=14)\n",
    "plt.ylabel(\"PC2\", size=14)\n",
    "plt.title(\"Movie ratings clusters\", size=20)"
   ]
  },
  {
   "cell_type": "code",
   "execution_count": null,
   "metadata": {},
   "outputs": [],
   "source": []
  }
 ],
 "metadata": {
  "colab": {
   "name": "BigData_movielensProject.ipynb",
   "provenance": []
  },
  "kernelspec": {
   "display_name": "Python 3",
   "language": "python",
   "name": "python3"
  },
  "language_info": {
   "codemirror_mode": {
    "name": "ipython",
    "version": 3
   },
   "file_extension": ".py",
   "mimetype": "text/x-python",
   "name": "python",
   "nbconvert_exporter": "python",
   "pygments_lexer": "ipython3",
   "version": "3.7.3"
  }
 },
 "nbformat": 4,
 "nbformat_minor": 1
}
